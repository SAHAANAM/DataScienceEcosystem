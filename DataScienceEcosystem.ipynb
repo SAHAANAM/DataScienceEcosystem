{
 "cells": [
  {
   "cell_type": "code",
   "execution_count": null,
   "id": "1d1119bf",
   "metadata": {},
   "outputs": [],
   "source": [
    "#  Exercise 2: Create markdown cell with title of the notebook."
   ]
  },
  {
   "cell_type": "markdown",
   "id": "952d8106",
   "metadata": {},
   "source": [
    "# Data Science Tools and Ecosystem"
   ]
  },
  {
   "cell_type": "code",
   "execution_count": null,
   "id": "1238c1cc",
   "metadata": {},
   "outputs": [],
   "source": [
    "#Exercise 3 - Create a markdown cell for an introduction"
   ]
  },
  {
   "cell_type": "markdown",
   "id": "3af430bf",
   "metadata": {},
   "source": [
    "In this notebook, Data Science Tools and Ecosystem are summarized."
   ]
  },
  {
   "cell_type": "code",
   "execution_count": null,
   "id": "19724501",
   "metadata": {},
   "outputs": [],
   "source": [
    "#Exercise 10 - Insert a markdown cell to list Objectives"
   ]
  },
  {
   "cell_type": "markdown",
   "id": "cbacfe0f",
   "metadata": {},
   "source": [
    "**Objectives:**\n",
    "\n",
    " Popular languages for Data Science:\n",
    "  - Python\n",
    "  - R\n",
    "  - JAVA\n",
    "  - SCALA\n",
    "  - SQL\n",
    " \n",
    " Popular Tools for Data Science:\n",
    "  - MongoDB\n",
    "  - Tensorflow\n",
    "  - AWS\n",
    "  - IBM Data Refinery\n",
    " \n",
    " Why Data Science is important:\n",
    "  - Discover unknown transformative patterns\n",
    "  - Innovate new products and solutions\n",
    "  - Real-time optimization"
   ]
  },
  {
   "cell_type": "code",
   "execution_count": 1,
   "id": "e64a95b1",
   "metadata": {},
   "outputs": [],
   "source": [
    "# Exercise 4 - Create a markdown cell to list data science languages"
   ]
  },
  {
   "cell_type": "markdown",
   "id": "ea1290e3",
   "metadata": {},
   "source": [
    "Some of the popular languages that Data Scientists use are:\n",
    "   1. Python:\n",
    "         Python is a popular data science language with straightforward syntax, readability, and portability. \n",
    "         It's easy to learn, open-source, and usable across platforms, making it an excellent choice for beginners.\n",
    "   2. SQL (Structured Query Language):\n",
    "         SQL is a widely used computer language for managing databases and constructing queries, used by data scientists \n",
    "         for data acquisition and manipulation.\n",
    "   3. R:\n",
    "         R is a popular statistical programming language for data analysis, visualization, \n",
    "         and manipulation, aiding predictive analytics and financial market analysis.\n",
    "   4. Java:\n",
    "         Java is a data science-focused, object-oriented,\n",
    "         concurrent programming language with \"write once, run anywhere\" capabilities on various platforms.\n",
    "   5. JavaScript:\n",
    "         JavaScript is a versatile programming language for creating online applications, including animations and AI programs.\n",
    "         It is not related to JAVA.\n",
    "   6. Scala:\n",
    "         Scala is an AI and data science language with a statically typed, object-oriented structure.\n",
    "   7. Julia:\n",
    "         Julia is a powerful data science language with simple syntax, interactive shell, and efficient memory-efficient \n",
    "         capabilities.\n",
    "   8. C/C++:\n",
    "         For numerical calculations, high-performance applications, effective processing of massive data volumes, \n",
    "         and creation of analytical models and algorithms, data scientists employ the low-level programming language C/C++.\n",
    "    \n"
   ]
  },
  {
   "cell_type": "code",
   "execution_count": null,
   "id": "e053aef2",
   "metadata": {},
   "outputs": [],
   "source": [
    "#Exercise 5 - Create a markdown cell to list data science libraries"
   ]
  },
  {
   "cell_type": "markdown",
   "id": "9dc6a868",
   "metadata": {},
   "source": [
    "Some of the commonly used libraries used by Data Scientists include:\n",
    "###### PYTHON Libraries\n",
    "   1. Pandas:Data structures and tools\n",
    "   2. Numpy:Array and Matrices\n",
    "   3. Matplotlib:Plots and Graph generally used for Data Visualization\n",
    "   4. Seaborn: Used for plots like Heat Maps,Time Series\n",
    "   5. Scikit Learn:ML-Regression,Classificaion,Clustering\n",
    "   6. Keras:Deep Learning Neural Network\n",
    "###### DEEP LEARNING Libraries\n",
    "   7. TensorFlow:Production and Deployment\n",
    "   8. Pytorch:Regression and classification\n",
    "###### Scala Libraries\n",
    "   9. Vegas:Statstical Data Visualization\n",
    "  10. BigDl:Deep Learning\n",
    "###### R Libraries\n",
    "  11. dplyr:Data Manipulation\n",
    "  12. stingr:String Manipulation\n",
    "  13. ggplot:Data Visualization\n",
    "  14. Caret:Machine Learning."
   ]
  },
  {
   "cell_type": "code",
   "execution_count": null,
   "id": "cc524c0b",
   "metadata": {},
   "outputs": [],
   "source": [
    "#Exercise 6 - Create a markdown cell with a table of Data Science tools"
   ]
  },
  {
   "cell_type": "markdown",
   "id": "b48139fe",
   "metadata": {},
   "source": [
    "| Data Science Tools |\n",
    "| :-----------------:|\n",
    "| RStudio            |\n",
    "|Apache Spark        |\n",
    "|TensorFlow          |\n",
    "|Weka                |\n",
    "|KNIME               |\n",
    "|Orange              |\n",
    "|D3.js               |\n",
    "|Ggplot2             |\n",
    "|Jupyter Notebooks   |\n",
    "|Zeppelin Notebooks  |"
   ]
  },
  {
   "cell_type": "code",
   "execution_count": null,
   "id": "e61090b0",
   "metadata": {},
   "outputs": [],
   "source": [
    "#Exercise 7 - Create a markdown cell introducing arithmetic expression examples"
   ]
  },
  {
   "cell_type": "markdown",
   "id": "31f4172d",
   "metadata": {},
   "source": [
    "### Below are a few examples of evaluating arithmetic expressions in Python"
   ]
  },
  {
   "cell_type": "code",
   "execution_count": 2,
   "id": "f9ba019d",
   "metadata": {},
   "outputs": [
    {
     "name": "stdout",
     "output_type": "stream",
     "text": [
      "17\n"
     ]
    }
   ],
   "source": [
    "#Exercise 8 - Create a code cell to multiply and add numbers\n",
    "#This a simple arithmetic expression to mutiply then add integers\n",
    "print((3*4)+5)"
   ]
  },
  {
   "cell_type": "code",
   "execution_count": 5,
   "id": "8c6eee1b",
   "metadata": {},
   "outputs": [
    {
     "name": "stdout",
     "output_type": "stream",
     "text": [
      "Total number of minutes:200\n",
      "Hours: 3.3333333333333335\n"
     ]
    }
   ],
   "source": [
    "#Exercise 9 - Create a code cell to convert minutes to hours\n",
    "#This will convert 200 minutes to hours by diving by 60\n",
    "a=input(\"Total number of minutes:\")\n",
    "b=int(a)/60\n",
    "print(\"Hours:\",b)"
   ]
  },
  {
   "cell_type": "code",
   "execution_count": null,
   "id": "84feec56",
   "metadata": {},
   "outputs": [],
   "source": [
    "#Exercise 11 - Create a markdown cell to indicate the Author's name"
   ]
  },
  {
   "cell_type": "markdown",
   "id": "2f8789fd",
   "metadata": {},
   "source": [
    "## Author\n",
    "SAHAANA M"
   ]
  },
  {
   "cell_type": "code",
   "execution_count": null,
   "id": "dd05530d",
   "metadata": {},
   "outputs": [],
   "source": []
  }
 ],
 "metadata": {
  "kernelspec": {
   "display_name": "Python 3 (ipykernel)",
   "language": "python",
   "name": "python3"
  },
  "language_info": {
   "codemirror_mode": {
    "name": "ipython",
    "version": 3
   },
   "file_extension": ".py",
   "mimetype": "text/x-python",
   "name": "python",
   "nbconvert_exporter": "python",
   "pygments_lexer": "ipython3",
   "version": "3.11.3"
  }
 },
 "nbformat": 4,
 "nbformat_minor": 5
}
